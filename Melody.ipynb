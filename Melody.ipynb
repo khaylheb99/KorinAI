{
  "nbformat": 4,
  "nbformat_minor": 0,
  "metadata": {
    "colab": {
      "provenance": [],
      "gpuType": "T4",
      "authorship_tag": "ABX9TyO4aV91CQLxWrAHgpcEUwM+",
      "include_colab_link": true
    },
    "kernelspec": {
      "name": "python3",
      "display_name": "Python 3"
    },
    "language_info": {
      "name": "python"
    },
    "accelerator": "GPU"
  },
  "cells": [
    {
      "cell_type": "markdown",
      "metadata": {
        "id": "view-in-github",
        "colab_type": "text"
      },
      "source": [
        "<a href=\"https://colab.research.google.com/github/khaylheb99/KorinAI/blob/main/Melody.ipynb\" target=\"_parent\"><img src=\"https://colab.research.google.com/assets/colab-badge.svg\" alt=\"Open In Colab\"/></a>"
      ]
    },
    {
      "cell_type": "code",
      "source": [
        "# Install only what we need\n",
        "!pip install music21\n",
        "\n",
        "from music21 import stream, note, scale, tempo, chord\n",
        "from IPython.display import Audio\n",
        "import numpy as np\n",
        "\n",
        "def generate_melody(genre=\"Afrobeat\", duration_sec=30, output_file=\"output.mid\"):\n",
        "    \"\"\"Generate genre-specific melody with basic rules\"\"\"\n",
        "    s = stream.Stream()\n",
        "\n",
        "    # Genre templates\n",
        "    templates = {\n",
        "        \"Afrobeat\": {\n",
        "            \"scale\": scale.MinorScale('C4'),\n",
        "            \"tempo\": 120,\n",
        "            \"pattern\": [1,3,5,6,5,3,1,2,3,5]\n",
        "        },\n",
        "        \"Fuji\": {\n",
        "            \"scale\": scale.MixolydianScale('F4'),\n",
        "            \"tempo\": 140,\n",
        "            \"pattern\": [1,2,3,5,3,2,1,5,4,2]\n",
        "        },\n",
        "        \"Jazz\": {\n",
        "            \"scale\": scale.MajorScale('G4'),\n",
        "            \"tempo\": 100,\n",
        "            \"pattern\": [2,3,5,6,9,7,5,3]\n",
        "        }\n",
        "    }\n",
        "\n",
        "    # Apply template\n",
        "    params = templates.get(genre, templates[\"Afrobeat\"])\n",
        "    s.append(tempo.MetronomeMark(number=params[\"tempo\"]))\n",
        "\n",
        "    # Generate notes with rhythmic variation\n",
        "    notes = []\n",
        "    for i in range(int(duration_sec * 2)):  # 2 notes per second\n",
        "        degree = params[\"pattern\"][i % len(params[\"pattern\"])]\n",
        "        pitch = params[\"scale\"].pitchFromDegree(degree)\n",
        "        duration = 0.5 if i % 4 < 2 else 0.25  # Syncopation\n",
        "        notes.append(note.Note(pitch, quarterLength=duration))\n",
        "\n",
        "    # Add simple drum backbeat\n",
        "    drum_part = stream.Part()\n",
        "    for i in range(int(duration_sec * 2)):\n",
        "        if i % 4 == 0:  # Kick on downbeat\n",
        "            drum_part.append(note.Note(\"C2\", quarterLength=0.5))\n",
        "        elif i % 4 == 2:  # Snare on backbeat\n",
        "            drum_part.append(note.Note(\"D2\", quarterLength=0.5))\n",
        "\n",
        "    s.append(notes)\n",
        "    s.append(drum_part)\n",
        "    s.write('midi', fp=output_file)\n",
        "\n",
        "    # Play in Colab\n",
        "    return Audio(output_file)\n",
        "\n",
        "# Generate and play\n",
        "generate_melody(\"Fuji\", 30, \"fuji.mid\")"
      ],
      "metadata": {
        "colab": {
          "base_uri": "https://localhost:8080/",
          "height": 457
        },
        "id": "fRInhQhJTK9g",
        "outputId": "d0de1eea-cc76-4307-b049-5a15b713b2c1"
      },
      "execution_count": 9,
      "outputs": [
        {
          "output_type": "stream",
          "name": "stdout",
          "text": [
            "Requirement already satisfied: music21 in /usr/local/lib/python3.11/dist-packages (9.3.0)\n",
            "Requirement already satisfied: chardet in /usr/local/lib/python3.11/dist-packages (from music21) (5.2.0)\n",
            "Requirement already satisfied: joblib in /usr/local/lib/python3.11/dist-packages (from music21) (1.4.2)\n",
            "Requirement already satisfied: jsonpickle in /usr/local/lib/python3.11/dist-packages (from music21) (4.0.2)\n",
            "Requirement already satisfied: matplotlib in /usr/local/lib/python3.11/dist-packages (from music21) (3.10.0)\n",
            "Requirement already satisfied: more-itertools in /usr/local/lib/python3.11/dist-packages (from music21) (10.6.0)\n",
            "Requirement already satisfied: numpy in /usr/local/lib/python3.11/dist-packages (from music21) (2.0.2)\n",
            "Requirement already satisfied: requests in /usr/local/lib/python3.11/dist-packages (from music21) (2.32.3)\n",
            "Requirement already satisfied: webcolors>=1.5 in /usr/local/lib/python3.11/dist-packages (from music21) (24.11.1)\n",
            "Requirement already satisfied: contourpy>=1.0.1 in /usr/local/lib/python3.11/dist-packages (from matplotlib->music21) (1.3.1)\n",
            "Requirement already satisfied: cycler>=0.10 in /usr/local/lib/python3.11/dist-packages (from matplotlib->music21) (0.12.1)\n",
            "Requirement already satisfied: fonttools>=4.22.0 in /usr/local/lib/python3.11/dist-packages (from matplotlib->music21) (4.56.0)\n",
            "Requirement already satisfied: kiwisolver>=1.3.1 in /usr/local/lib/python3.11/dist-packages (from matplotlib->music21) (1.4.8)\n",
            "Requirement already satisfied: packaging>=20.0 in /usr/local/lib/python3.11/dist-packages (from matplotlib->music21) (24.2)\n",
            "Requirement already satisfied: pillow>=8 in /usr/local/lib/python3.11/dist-packages (from matplotlib->music21) (11.1.0)\n",
            "Requirement already satisfied: pyparsing>=2.3.1 in /usr/local/lib/python3.11/dist-packages (from matplotlib->music21) (3.2.3)\n",
            "Requirement already satisfied: python-dateutil>=2.7 in /usr/local/lib/python3.11/dist-packages (from matplotlib->music21) (2.8.2)\n",
            "Requirement already satisfied: charset-normalizer<4,>=2 in /usr/local/lib/python3.11/dist-packages (from requests->music21) (3.4.1)\n",
            "Requirement already satisfied: idna<4,>=2.5 in /usr/local/lib/python3.11/dist-packages (from requests->music21) (3.10)\n",
            "Requirement already satisfied: urllib3<3,>=1.21.1 in /usr/local/lib/python3.11/dist-packages (from requests->music21) (2.3.0)\n",
            "Requirement already satisfied: certifi>=2017.4.17 in /usr/local/lib/python3.11/dist-packages (from requests->music21) (2025.1.31)\n",
            "Requirement already satisfied: six>=1.5 in /usr/local/lib/python3.11/dist-packages (from python-dateutil>=2.7->matplotlib->music21) (1.17.0)\n"
          ]
        },
        {
          "output_type": "execute_result",
          "data": {
            "text/plain": [
              "<IPython.lib.display.Audio object>"
            ],
            "text/html": [
              "\n",
              "                <audio  controls=\"controls\" >\n",
              "                    <source src=\"data:audio/sp-midi;base64,TVRoZAAAAAYAAQACJ2BNVHJrAAAAFAD/UQMGihsA/1gEBAIYCM5g/y8ATVRyawAAARsA/wMAAOAAQACQJFqnMIAkAACQJlqnMIAmAACQJFqnMIAkAACQJlqnMIAmAACQJFqnMIAkAACQJlqnMIAmAACQJFqnMIAkAACQJlqnMIAmAACQJFqnMIAkAACQJlqnMIAmAACQJFqnMIAkAACQJlqnMIAmAACQJFqnMIAkAACQJlqnMIAmAACQJFqnMIAkAACQJlqnMIAmAACQJFqnMIAkAACQJlqnMIAmAACQJFqnMIAkAACQJlqnMIAmAACQJFqnMIAkAACQJlqnMIAmAACQJFqnMIAkAACQJlqnMIAmAACQJFqnMIAkAACQJlqnMIAmAACQJFqnMIAkAACQJlqnMIAmAACQJFqnMIAkAACQJlqnMIAmAM5g/y8A\" type=\"audio/sp-midi\" />\n",
              "                    Your browser does not support the audio element.\n",
              "                </audio>\n",
              "              "
            ]
          },
          "metadata": {},
          "execution_count": 9
        }
      ]
    },
    {
      "cell_type": "code",
      "source": [],
      "metadata": {
        "id": "q4ND3brKVnal"
      },
      "execution_count": null,
      "outputs": []
    }
  ]
}